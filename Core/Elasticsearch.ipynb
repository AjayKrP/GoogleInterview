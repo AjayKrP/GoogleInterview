{
 "cells": [
  {
   "cell_type": "code",
   "execution_count": 11,
   "metadata": {
    "collapsed": true
   },
   "outputs": [
    {
     "name": "stdout",
     "output_type": "stream",
     "text": [
      "ajay 127.0.0.1 127.0.0.1 ml.machine_memory 16173543424\n",
      "ajay 127.0.0.1 127.0.0.1 xpack.installed   true\n",
      "ajay 127.0.0.1 127.0.0.1 ml.max_open_jobs  20\n",
      "\n"
     ]
    }
   ],
   "source": [
    "from elasticsearch import Elasticsearch\n",
    "\n",
    "client = Elasticsearch('http://localhost:9200/')\n",
    "\n",
    "print(client.cat.nodeattrs())"
   ]
  }
 ],
 "metadata": {
  "kernelspec": {
   "display_name": "Python 3",
   "language": "python",
   "name": "python3"
  },
  "language_info": {
   "codemirror_mode": {
    "name": "ipython",
    "version": 2
   },
   "file_extension": ".py",
   "mimetype": "text/x-python",
   "name": "python",
   "nbconvert_exporter": "python",
   "pygments_lexer": "ipython2",
   "version": "2.7.6"
  }
 },
 "nbformat": 4,
 "nbformat_minor": 0
}