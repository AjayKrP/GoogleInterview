{
 "cells": [
  {
   "cell_type": "code",
   "execution_count": 7,
   "metadata": {
    "collapsed": true
   },
   "outputs": [
    {
     "name": "stdout",
     "output_type": "stream",
     "text": [
      "1024\n",
      "32\n",
      "64\n",
      "128\n"
     ]
    }
   ],
   "source": [
    "def exponent(base):\n",
    "    def power(exp):\n",
    "        return pow(base, exp)\n",
    "\n",
    "    return power\n",
    "\n",
    "\n",
    "exp = exponent(2)\n",
    "print(exp(10))\n",
    "print(exp(5))\n",
    "print(exp(6))\n",
    "print(exp(7))"
   ]
  },
  {
   "cell_type": "code",
   "execution_count": 10,
   "outputs": [
    {
     "name": "stdout",
     "output_type": "stream",
     "text": [
      "9\n"
     ]
    }
   ],
   "source": [
    "def callback(res):\n",
    "    return res * res\n",
    "\n",
    "\n",
    "def asynchronous(val, callback_=None):\n",
    "    if callback_:\n",
    "        return callback_(val)\n",
    "    return val\n",
    "\n",
    "\n",
    "print(asynchronous(3, callback))"
   ],
   "metadata": {
    "collapsed": false,
    "pycharm": {
     "name": "#%%\n"
    }
   }
  }
 ],
 "metadata": {
  "kernelspec": {
   "display_name": "Python 3",
   "language": "python",
   "name": "python3"
  },
  "language_info": {
   "codemirror_mode": {
    "name": "ipython",
    "version": 2
   },
   "file_extension": ".py",
   "mimetype": "text/x-python",
   "name": "python",
   "nbconvert_exporter": "python",
   "pygments_lexer": "ipython2",
   "version": "2.7.6"
  }
 },
 "nbformat": 4,
 "nbformat_minor": 0
}