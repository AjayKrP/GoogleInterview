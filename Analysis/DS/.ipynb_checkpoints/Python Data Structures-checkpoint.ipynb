{
 "cells": [
  {
   "cell_type": "code",
   "execution_count": 14,
   "id": "bd949f6a",
   "metadata": {},
   "outputs": [
    {
     "name": "stdout",
     "output_type": "stream",
     "text": [
      "2\n",
      "['banana', 'apple', 'kiwi', 'banana', 'pear', 'apple', 'orange']\n",
      "['banana', 'apple', 'kiwi', 'banana', 'pear', 'apple', 'orange', 'grape']\n",
      "1\n",
      "['pear', 'orange', 'kiwi', 'grape', 'banana', 'banana', 'apple', 'apple']\n",
      "['banana', 'banana', 'pear', 'kiwi', 'apple', 'apple', 'orange', 'grape']\n",
      "['banana', 'banana', 'pear', 'kiwi', 'apple', 'apple', 'orange']\n",
      "['banana', 'banana', 'chiku', 'pear', 'kiwi', 'apple', 'apple', 'orange']\n",
      "[]\n"
     ]
    }
   ],
   "source": [
    "fruits = ['orange', 'apple', 'pear', 'banana', 'kiwi', 'apple', 'banana']\n",
    "print(fruits.count('apple'))\n",
    "fruits.reverse()\n",
    "print(fruits)\n",
    "fruits.append('grape')\n",
    "print(fruits)\n",
    "print(fruits.index('apple'))\n",
    "fruits.sort(reverse=True)\n",
    "print(fruits)\n",
    "fruits.sort(key=lambda x: x[1]) # sort by second character\n",
    "print(fruits)\n",
    "\n",
    "fruits.pop()\n",
    "print(fruits)\n",
    "fruits.insert(2, 'chiku')\n",
    "print(fruits)\n",
    "fruits.clear()\n",
    "print(fruits)\n"
   ]
  },
  {
   "cell_type": "code",
   "execution_count": 18,
   "id": "ed63b0d7",
   "metadata": {},
   "outputs": [
    {
     "name": "stdout",
     "output_type": "stream",
     "text": [
      "1 2 3 4 5 \n",
      "\n",
      "1 2 3 4 5 7 \n",
      "\n",
      "7\n",
      "1 2 3 4 5 \n",
      "\n"
     ]
    }
   ],
   "source": [
    "# List can be used as stack in python\n",
    "stack = [1,2,3,4,5]\n",
    "\n",
    "def printStack(item):\n",
    "    for ele in item:\n",
    "        print(ele, end=' ')\n",
    "    print('\\n')\n",
    "\n",
    "printStack(stack)\n",
    "stack.append(7) # add item to top of the stack\n",
    "printStack(stack)\n",
    "\n",
    "val = stack.pop() # remove topmost element\n",
    "print(val)\n",
    "printStack(stack)\n"
   ]
  },
  {
   "cell_type": "code",
   "execution_count": 26,
   "id": "5d49a400",
   "metadata": {},
   "outputs": [
    {
     "name": "stdout",
     "output_type": "stream",
     "text": [
      "[0, 1, 4, 9, 16, 25, 36, 49, 64, 81]\n",
      "[1, 9, 25, 49, 81]\n",
      "[(1, 3), (1, 4), (2, 3), (2, 1), (2, 4), (3, 1), (3, 4)]\n",
      "[[1, 5, 9], [2, 6, 10], [3, 7, 11], [4, 8, 12]]\n",
      "[(1, 5, 9), (2, 6, 10), (3, 7, 11), (4, 8, 12)]\n"
     ]
    }
   ],
   "source": [
    "# List Comprehensions\n",
    "squares = [x**2 for x in range(10)]\n",
    "print(squares)\n",
    "\n",
    "odd = [x for x in squares if x % 2 != 0]\n",
    "print(odd)\n",
    "\n",
    "x_y_not_equal = [(x, y) for x in [1,2,3] for y in [3,1,4] if x != y]\n",
    "print(x_y_not_equal)\n",
    "\n",
    "# Nested List Comprehensions\n",
    "\n",
    "matrix = [\n",
    "    [1, 2, 3, 4],\n",
    "    [5, 6, 7, 8],\n",
    "    [9, 10, 11, 12],\n",
    "]\n",
    "\n",
    "transpose = [[row[i] for row in matrix] for i in range(len(matrix[0]))]\n",
    "print(transpose)\n",
    "\n",
    "print(list(zip(*matrix)))"
   ]
  },
  {
   "cell_type": "code",
   "execution_count": 34,
   "id": "a6404615",
   "metadata": {},
   "outputs": [
    {
     "name": "stdout",
     "output_type": "stream",
     "text": [
      "{'d', 'r', 'c', 'b', 'a'}\n",
      "{'c', 'a', 'z', 'm', 'l'}\n",
      "letters in a but not in b: {'d', 'b', 'r'}\n",
      "letters in a or b or both: {'d', 'r', 'c', 'b', 'a', 'z', 'm', 'l'}\n",
      "letters in both a and b: {'c', 'a'}\n",
      "letters in a or b but not both: {'d', 'b', 'r', 'm', 'l', 'z'}\n"
     ]
    }
   ],
   "source": [
    "a = set('abracadabra')\n",
    "b = set('alacazam')\n",
    "\n",
    "print(a)\n",
    "print(b)\n",
    "\n",
    "print(f'letters in a but not in b: {a-b}')\n",
    "print(f'letters in a or b or both: {a|b}')\n",
    "print(f'letters in both a and b: {a&b}')\n",
    "print(f'letters in a or b but not both: {a^b}')\n"
   ]
  },
  {
   "cell_type": "code",
   "execution_count": null,
   "id": "9c04aa67",
   "metadata": {},
   "outputs": [],
   "source": [
    "# Dictionaries\n"
   ]
  }
 ],
 "metadata": {
  "kernelspec": {
   "display_name": "Python 3 (ipykernel)",
   "language": "python",
   "name": "python3"
  },
  "language_info": {
   "codemirror_mode": {
    "name": "ipython",
    "version": 3
   },
   "file_extension": ".py",
   "mimetype": "text/x-python",
   "name": "python",
   "nbconvert_exporter": "python",
   "pygments_lexer": "ipython3",
   "version": "3.8.10"
  }
 },
 "nbformat": 4,
 "nbformat_minor": 5
}
