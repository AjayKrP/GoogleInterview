{
 "cells": [
  {
   "cell_type": "code",
   "execution_count": 5,
   "metadata": {
    "collapsed": true,
    "pycharm": {
     "name": "#%%\n"
    }
   },
   "outputs": [],
   "source": [
    "#Finding subset using mathematical induction\n",
    "\n",
    "def find_subset_mathematical_induction(nums):\n",
    "    if not nums:\n",
    "        return [[]]\n",
    "    n = nums.pop(0)\n",
    "    res = find_subset_mathematical_induction(nums)\n",
    "    for i in range(len(res)):\n",
    "        res.append(res[i])\n",
    "        res[-1].append(n)\n",
    "    return res\n",
    "\n",
    "def test_find_subset_mathematical_induction():\n",
    "    assert find_subset_mathematical_induction([1,2]) == [[],[1],[2],[1,2]]\n",
    "\n",
    "\n",
    "# backtrack\n",
    "\"\"\"\n",
    "result = []\n",
    "def backtrack(Path, Seletion List):\n",
    "    if meet the End Conditon:\n",
    "        result.add(Path)\n",
    "        return\n",
    "\n",
    "    for seletion in Seletion List:\n",
    "        select\n",
    "        backtrack(Path, Seletion List)\n",
    "        deselect\n",
    "\"\"\""
   ]
  },
  {
   "cell_type": "code",
   "execution_count": null,
   "outputs": [],
   "source": [
    "# Interval Merging Algorithms\n",
    "def merge_intervals(intervals):\n",
    "    if not intervals: return []\n",
    "    # ascending sorting by start\n",
    "    intervals.sort(key=lambda intv: intv[0])\n",
    "    res = []\n",
    "    res.append(intervals[0])\n",
    "\n",
    "    for i in range(1, len(intervals)):\n",
    "        curr = intervals[i]\n",
    "        # quote of the last element in res\n",
    "        last = res[-1]\n",
    "        if curr[0] <= last[1]:\n",
    "            # find the biggest end\n",
    "            last[1] = max(last[1], curr[1])\n",
    "        else:\n",
    "            # address next interval need to be merged\n",
    "            res.append(curr)\n",
    "    return res"
   ],
   "metadata": {
    "collapsed": false,
    "pycharm": {
     "name": "#%%\n"
    }
   }
  },
  {
   "cell_type": "code",
   "execution_count": null,
   "outputs": [],
   "source": [
    "# Double Pointer skills\n",
    "\"\"\"\n",
    "1. Fast slow pointer\n",
    "bool hasCycle(ListNode head) {\n",
    "    ListNode fast, slow;\n",
    "    fast = slow = head;\n",
    "    while (fast != null && fast.next != null) {\n",
    "        fast = fast.next.next;\n",
    "        slow = slow.next;\n",
    "\n",
    "        if (fast == slow) return true;\n",
    "    }\n",
    "    return false;\n",
    "}\n",
    "\n",
    "1.1 Knowing that the linked list contains a ring, return to the starting position of the ring\n",
    "\n",
    "bool hasCycle(ListNode head) {\n",
    "    ListNode fast, slow;\n",
    "    fast = slow = head;\n",
    "    while (fast != null && fast.next != null) {\n",
    "        fast = fast.next.next;\n",
    "        slow = slow.next;\n",
    "\n",
    "        if (fast == slow) break;\n",
    "    }\n",
    "    slow = head\n",
    "    while fast != slow:\n",
    "        fast = fast.next\n",
    "        slow = slow.next\n",
    "    return slow\n",
    "}\n",
    "2. Find mid point of Linked List\n",
    "while (fast != null && fast.next != null) {\n",
    "    fast = fast.next.next;\n",
    "    slow = slow.next;\n",
    "}\n",
    "// \"slow\" is in the middle\n",
    "return slow;\n",
    "\n",
    "3. Find the k-th element from the bottom of the linked list\n",
    "\n",
    "ListNode slow, fast;\n",
    "slow = fast = head;\n",
    "while (k-- > 0)\n",
    "    fast = fast.next;\n",
    "\n",
    "while (fast != null) {\n",
    "    slow = slow.next;\n",
    "    fast = fast.next;\n",
    "}\n",
    "return slow;\n",
    "2. Second, the common algorithm of left and right pointer\n",
    "\n",
    "\"\"\""
   ],
   "metadata": {
    "collapsed": false,
    "pycharm": {
     "name": "#%%\n"
    }
   }
  },
  {
   "cell_type": "code",
   "execution_count": null,
   "outputs": [],
   "source": [
    "# Manacher's Algorithm\n",
    "# Longest Palindromic Substring\n",
    "\n",
    "\"\"\"\n",
    "string palindrome(string& s, int l, int r) {\n",
    "    // avoid outOfIndex error\n",
    "    while (l >= 0 && r < s.size()\n",
    "            && s[l] == s[r]) {\n",
    "        // scanning toward both directions\n",
    "        l--; r++;\n",
    "    }\n",
    "    // return a palindrome that set s[l] and s[r] as mid point\n",
    "    return s.substr(l + 1, r - l - 1);\n",
    "}\n",
    "\n",
    "string longestPalindrome(string s) {\n",
    "    string res;\n",
    "    for (int i = 0; i < s.size(); i++) {\n",
    "        // find a palindrome that set s[i] as its mid\n",
    "        string s1 = palindrome(s, i, i);\n",
    "        // find a palindrome that set s[i] and s[i + 1] as its mid\n",
    "        string s2 = palindrome(s, i, i + 1);\n",
    "        // res = longest(res, s1, s2)\n",
    "        res = res.size() > s1.size() ? res : s1;\n",
    "        res = res.size() > s2.size() ? res : s2;\n",
    "    }\n",
    "    return res;\n",
    "}\n",
    "\"\"\"\n",
    "\n"
   ],
   "metadata": {
    "collapsed": false,
    "pycharm": {
     "name": "#%%\n"
    }
   }
  },
  {
   "cell_type": "code",
   "execution_count": null,
   "outputs": [],
   "source": [
    "# Dynamic Programming"
   ],
   "metadata": {
    "collapsed": false,
    "pycharm": {
     "name": "#%%\n"
    }
   }
  },
  {
   "cell_type": "code",
   "execution_count": null,
   "outputs": [],
   "source": [
    "# Word Break\n",
    "#\n",
    "class Solution:\n",
    "    def wordBreak(self, s: str, wordDict: List[str]) -> bool:\n",
    "\n",
    "        def canContruct(s:str,mem):\n",
    "            if(s in mem):\n",
    "                return mem[s]\n",
    "            if(len(s) == 0):\n",
    "                # we have the solution\n",
    "                return True\n",
    "\n",
    "            for word in wordDict:\n",
    "                if(s.find(word)==0):\n",
    "                    can = canContruct(s[len(word):],mem)\n",
    "                    if(can):\n",
    "                        mem[s]=True\n",
    "                        return True\n",
    "            mem[s]=False\n",
    "            return False\n",
    "        return canContruct(s,{})"
   ],
   "metadata": {
    "collapsed": false,
    "pycharm": {
     "name": "#%%\n"
    }
   }
  },
  {
   "cell_type": "code",
   "execution_count": null,
   "outputs": [],
   "source": [
    "# https://leetcode.com/problems/snakes-and-ladders/\n",
    "# Snake ladders\n",
    "\n"
   ],
   "metadata": {
    "collapsed": false,
    "pycharm": {
     "name": "#%%\n"
    }
   }
  }
 ],
 "metadata": {
  "kernelspec": {
   "display_name": "Python 3",
   "language": "python",
   "name": "python3"
  },
  "language_info": {
   "codemirror_mode": {
    "name": "ipython",
    "version": 2
   },
   "file_extension": ".py",
   "mimetype": "text/x-python",
   "name": "python",
   "nbconvert_exporter": "python",
   "pygments_lexer": "ipython2",
   "version": "2.7.6"
  }
 },
 "nbformat": 4,
 "nbformat_minor": 0
}