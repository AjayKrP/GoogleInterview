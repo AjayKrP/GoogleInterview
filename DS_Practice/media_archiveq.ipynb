{
 "cells": [
  {
   "cell_type": "code",
   "execution_count": null,
   "outputs": [],
   "source": [
    "\"\"\"\n",
    "1. What is the difference between Cookies and Session?\n",
    "2. Difference between Stack and Queue and their applications.\n",
    "3. Difference between Mutex and Semaphore\n",
    "4. Process V/s Threads. What is Multithreading?\n",
    "\"\"\""
   ],
   "metadata": {
    "collapsed": false,
    "pycharm": {
     "name": "#%%\n"
    }
   }
  },
  {
   "cell_type": "code",
   "execution_count": 52,
   "metadata": {
    "collapsed": true
   },
   "outputs": [
    {
     "name": "stdout",
     "output_type": "stream",
     "text": [
      "T\n",
      "H\n",
      "I\n",
      "S\n",
      " \n",
      " \n",
      "I\n",
      "S\n",
      " \n",
      " \n",
      " \n",
      " \n",
      "A\n",
      " \n",
      " \n",
      " \n",
      " \n",
      " \n",
      "S\n",
      "T\n",
      "R\n",
      "I\n",
      "N\n",
      "G\n",
      "A\n",
      "N\n",
      "D\n",
      " \n",
      " \n",
      " \n"
     ]
    }
   ],
   "source": [
    "\"\"\"\n",
    "Given a String we need to print each word in a string in Vertical Fashion.\n",
    "Ex: String=\"THIS IS A STRING\"\n",
    "Answer: T    I    A  S\n",
    "        H    S       T\n",
    "        I            R\n",
    "        S            I\n",
    "                     N\n",
    "                     G\n",
    "\"\"\"\n",
    "def verticalPrint(astring):\n",
    "    wordList = astring.split(\" \")\n",
    "    wordAmount = len(wordList)\n",
    "\n",
    "    maxLen = 0\n",
    "    for i in range (wordAmount):\n",
    "        length = len(wordList[i])\n",
    "        if length >= maxLen:\n",
    "            maxLen = length\n",
    "\n",
    "    ### makes all words the same length to avoid range errors ###\n",
    "    for i in range (wordAmount):\n",
    "        if len(wordList[i]) < maxLen:\n",
    "            wordList[i] = wordList[i] + (\" \")*(maxLen-len(wordList[i]))\n",
    "\n",
    "    for i in range (wordAmount):\n",
    "        for j in range (maxLen):\n",
    "            print(wordList[i][j])\n",
    "\n",
    "verticalPrint('THIS IS A STRING AND')"
   ]
  },
  {
   "cell_type": "code",
   "execution_count": 25,
   "outputs": [
    {
     "name": "stdout",
     "output_type": "stream",
     "text": [
      "2\n",
      "2\n"
     ]
    }
   ],
   "source": [
    "\"\"\"\n",
    "Given N we need to find how many numbers from 1 to n which has count of set bits to be 1.\n",
    "Ex: Assume N=5\n",
    "\n",
    "Then 1, 2, 4 Consist of only 1 set bit in its binary representation. So the answer will be 3.\n",
    "\"\"\"\n",
    "\n",
    "def count_set_bit(number):\n",
    "    count = 0\n",
    "    while number:\n",
    "        count += number & 1\n",
    "        number >>= 1\n",
    "    print(count)\n",
    "\n",
    "count_set_bit(5)\n",
    "count_set_bit(6)"
   ],
   "metadata": {
    "collapsed": false,
    "pycharm": {
     "name": "#%%\n"
    }
   }
  },
  {
   "cell_type": "code",
   "execution_count": 37,
   "outputs": [
    {
     "name": "stdout",
     "output_type": "stream",
     "text": [
      "6054854654\n"
     ]
    }
   ],
   "source": [
    "\"\"\"\n",
    "Arrange given numbers to form the biggest number.\n",
    "Eg: Input: { 66, 56, 9, 7, 10, 660 }\n",
    "    Output: 97666605610\n",
    "\"\"\"\n",
    "# custom comparator to sort according\n",
    "# to the ab, ba as mentioned in description\n",
    "\n",
    "class CustomComparator(str):\n",
    "    def __lt__(self, other):\n",
    "        return self + other > other + self\n",
    "\n",
    "\n",
    "# driver code\n",
    "if __name__ == \"__main__\":\n",
    "    a = [54, 546, 548, 60,]\n",
    "    sorted_array = sorted(map(str, a), key=CustomComparator)\n",
    "    number = \"\".join([str(i) for i in sorted_array])\n",
    "    print(number)\n",
    "    ## output = 6054854654"
   ],
   "metadata": {
    "collapsed": false,
    "pycharm": {
     "name": "#%%\n"
    }
   }
  },
  {
   "cell_type": "code",
   "execution_count": 33,
   "outputs": [
    {
     "data": {
      "text/plain": "2"
     },
     "execution_count": 33,
     "metadata": {},
     "output_type": "execute_result"
    }
   ],
   "source": [
    "\"\"\"\n",
    "Given an array of n elements return the count of elements which has a count of set bits to be 1.\n",
    "Eg: Input: {2, 6, 8, 10, 12}\n",
    "    Output: 2\n",
    "\"\"\"\n",
    "\n",
    "def count_set_bits(nums):\n",
    "    count = 0\n",
    "    for item in nums:\n",
    "        tmp = 0\n",
    "        while item:\n",
    "            tmp += item & 1\n",
    "            item >>= 1\n",
    "        count += tmp == 1\n",
    "    return count\n",
    "\n",
    "count_set_bits([2, 6, 8, 10, 12])"
   ],
   "metadata": {
    "collapsed": false,
    "pycharm": {
     "name": "#%%\n"
    }
   }
  },
  {
   "cell_type": "code",
   "execution_count": null,
   "outputs": [],
   "source": [
    "\"\"\"\n",
    "You are given a 2D array of integers with dimension n X m and a value ‘k’. Find if there exists a square submatrix whose sum is equal to k.\n",
    "Example-\n",
    "n = 3, m = 3, k = 10\n",
    "1 2 3\n",
    "2 3 4\n",
    "3 2 6\n",
    "\"\"\""
   ],
   "metadata": {
    "collapsed": false,
    "pycharm": {
     "name": "#%%\n"
    }
   }
  },
  {
   "cell_type": "code",
   "execution_count": 38,
   "outputs": [
    {
     "name": "stdout",
     "output_type": "stream",
     "text": [
      "25\n"
     ]
    }
   ],
   "source": [
    "def how_are_you(current_year):\n",
    "    if current_year == 1996:\n",
    "        return 0\n",
    "    return how_are_you(current_year - 1) + 1\n",
    "\n",
    "print(how_are_you(2021))"
   ],
   "metadata": {
    "collapsed": false,
    "pycharm": {
     "name": "#%%\n"
    }
   }
  }
 ],
 "metadata": {
  "kernelspec": {
   "display_name": "Python 3",
   "language": "python",
   "name": "python3"
  },
  "language_info": {
   "codemirror_mode": {
    "name": "ipython",
    "version": 2
   },
   "file_extension": ".py",
   "mimetype": "text/x-python",
   "name": "python",
   "nbconvert_exporter": "python",
   "pygments_lexer": "ipython2",
   "version": "2.7.6"
  }
 },
 "nbformat": 4,
 "nbformat_minor": 0
}