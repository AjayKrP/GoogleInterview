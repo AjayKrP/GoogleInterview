{
 "cells": [
  {
   "cell_type": "code",
   "execution_count": 5,
   "metadata": {
    "collapsed": true
   },
   "outputs": [
    {
     "data": {
      "text/plain": "'car ride'"
     },
     "execution_count": 5,
     "metadata": {},
     "output_type": "execute_result"
    }
   ],
   "source": [
    "from abc import ABC, abstractmethod\n",
    "\n",
    "\n",
    "class RideSharing:\n",
    "    @abstractmethod\n",
    "    def ride(self):\n",
    "        pass\n",
    "\n",
    "    @abstractmethod\n",
    "    def share(self):\n",
    "        pass\n",
    "\n",
    "\n",
    "class BikeRideSharing(RideSharing):\n",
    "\n",
    "    def share(self):\n",
    "        return f'bike ride share'\n",
    "\n",
    "    def ride(self):\n",
    "        return f'bike ride'\n",
    "\n",
    "\n",
    "class CarRideSharing(RideSharing):\n",
    "\n",
    "    def share(self):\n",
    "        return f'car ride share'\n",
    "\n",
    "    def ride(self):\n",
    "        return f'car ride'\n",
    "\n",
    "\n",
    "class BusRideSharing(RideSharing):\n",
    "\n",
    "    def share(self):\n",
    "        return f'bus ride share'\n",
    "\n",
    "    def ride(self):\n",
    "        return f'bus ride'\n",
    "\n",
    "\n",
    "class RideFactory:\n",
    "    def __init__(self):\n",
    "        self.methods = {}\n",
    "\n",
    "    def register(self, **kwargs):\n",
    "        for key, val in zip(kwargs.keys(), kwargs.values()):\n",
    "            self.methods[key] = val\n",
    "\n",
    "    def method(self, method):\n",
    "        return self.methods[method]\n",
    "\n",
    "bike = BikeRideSharing()\n",
    "car = CarRideSharing()\n",
    "bus = BusRideSharing()\n",
    "factory = RideFactory()\n",
    "factory.register(bike=bike, car=car,bus=bus)\n",
    "factory.method('bus').ride()\n",
    "factory.method('car').ride()\n"
   ]
  }
 ],
 "metadata": {
  "kernelspec": {
   "display_name": "Python 3",
   "language": "python",
   "name": "python3"
  },
  "language_info": {
   "codemirror_mode": {
    "name": "ipython",
    "version": 2
   },
   "file_extension": ".py",
   "mimetype": "text/x-python",
   "name": "python",
   "nbconvert_exporter": "python",
   "pygments_lexer": "ipython2",
   "version": "2.7.6"
  }
 },
 "nbformat": 4,
 "nbformat_minor": 0
}