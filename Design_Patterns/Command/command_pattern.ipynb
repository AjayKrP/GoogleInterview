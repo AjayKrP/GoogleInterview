{
 "cells": [
  {
   "cell_type": "code",
   "execution_count": 1,
   "metadata": {
    "collapsed": true
   },
   "outputs": [
    {
     "name": "stdout",
     "output_type": "stream",
     "text": [
      "Receiver Action\n"
     ]
    }
   ],
   "source": [
    "\"\"\"\n",
    "Command pattern converts requests or operations into objects\n",
    "\"\"\"\n",
    "\n",
    "from abc import ABC, abstractmethod\n",
    "\n",
    "\n",
    "class Command(ABC):\n",
    "    def __init__(self, receiver):\n",
    "        self.receiver = receiver\n",
    "\n",
    "    @abstractmethod\n",
    "    def process(self):\n",
    "        pass\n",
    "\n",
    "\n",
    "class SimpleCommand(Command):\n",
    "    def __init__(self, receiver):\n",
    "        super().__init__(receiver)\n",
    "\n",
    "    def process(self):\n",
    "        self.receiver.perform_action()\n",
    "\n",
    "\n",
    "class Receiver(ABC):\n",
    "    @abstractmethod\n",
    "    def perform_action(self):\n",
    "        print('Receiver Action')\n",
    "\n",
    "\n",
    "class Receiver1(Receiver):\n",
    "    def perform_action(self):\n",
    "        print('Receiver Action')\n",
    "\n",
    "\n",
    "class Invoker:\n",
    "    def __init__(self):\n",
    "        self.commands = {}\n",
    "\n",
    "    def register(self, name, command):\n",
    "        if name not in self.commands.keys():\n",
    "            self.commands[name] = command\n",
    "\n",
    "    def execute(self, cmd):\n",
    "        self.commands[cmd].process()\n",
    "\n",
    "\n",
    "receiver1 = Receiver1()\n",
    "cmd = SimpleCommand(receiver1)\n",
    "invoker = Invoker()\n",
    "invoker.register('1', cmd)\n",
    "invoker.execute('1')\n",
    "\n"
   ]
  }
 ],
 "metadata": {
  "kernelspec": {
   "display_name": "Python 3",
   "language": "python",
   "name": "python3"
  },
  "language_info": {
   "codemirror_mode": {
    "name": "ipython",
    "version": 2
   },
   "file_extension": ".py",
   "mimetype": "text/x-python",
   "name": "python",
   "nbconvert_exporter": "python",
   "pygments_lexer": "ipython2",
   "version": "2.7.6"
  }
 },
 "nbformat": 4,
 "nbformat_minor": 0
}