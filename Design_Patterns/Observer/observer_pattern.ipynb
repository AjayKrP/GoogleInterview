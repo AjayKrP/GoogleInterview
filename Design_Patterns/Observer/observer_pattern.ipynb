{
 "cells": [
  {
   "cell_type": "code",
   "execution_count": null,
   "metadata": {
    "collapsed": true
   },
   "outputs": [],
   "source": [
    "from abc import ABC, abstractmethod\n",
    "\n",
    "\n",
    "class Observer:\n",
    "    def __init__(self):\n",
    "        self.methods = []\n",
    "\n",
    "    def attach(self, method):\n",
    "        if method not in self.methods:\n",
    "            self.methods.append(method)\n",
    "\n",
    "    def detach(self, method):\n",
    "        if method in self.methods:\n",
    "            self.methods.remove(method)\n",
    "\n",
    "    def notify(self):\n",
    "        for method in self.methods:\n",
    "            method.process()\n",
    "\n",
    "\n",
    "class Event(ABC):\n",
    "    @abstractmethod\n",
    "    def process(self, obj):\n",
    "        pass"
   ]
  }
 ],
 "metadata": {
  "kernelspec": {
   "display_name": "Python 3",
   "language": "python",
   "name": "python3"
  },
  "language_info": {
   "codemirror_mode": {
    "name": "ipython",
    "version": 2
   },
   "file_extension": ".py",
   "mimetype": "text/x-python",
   "name": "python",
   "nbconvert_exporter": "python",
   "pygments_lexer": "ipython2",
   "version": "2.7.6"
  }
 },
 "nbformat": 4,
 "nbformat_minor": 0
}